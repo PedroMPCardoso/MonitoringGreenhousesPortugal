{
  "cells": [
    {
      "cell_type": "markdown",
      "metadata": {
        "id": "view-in-github",
        "colab_type": "text"
      },
      "source": [
        "<a href=\"https://colab.research.google.com/github/TheViriato/MonitoringGreenhousesPortugal/blob/main/RobustRandomForestsTrimestral.ipynb\" target=\"_parent\"><img src=\"https://colab.research.google.com/assets/colab-badge.svg\" alt=\"Open In Colab\"/></a>"
      ]
    },
    {
      "cell_type": "markdown",
      "metadata": {
        "id": "jK9tCTcwqq4k"
      },
      "source": [
        "## Installing TensorFlow Decision Forests\n",
        "\n",
        "Install TF-DF by running the following cell."
      ]
    },
    {
      "cell_type": "code",
      "execution_count": null,
      "metadata": {
        "id": "Pa1Pf37RhEYN"
      },
      "outputs": [],
      "source": [
        "!pip install tensorflow_decision_forests"
      ]
    },
    {
      "cell_type": "markdown",
      "metadata": {
        "id": "vZGda2dOe-hH"
      },
      "source": [
        "Install [Wurlitzer](https://pypi.org/project/wurlitzer/) to display\n",
        "the detailed training logs. This is only needed in colabs."
      ]
    },
    {
      "cell_type": "code",
      "execution_count": null,
      "metadata": {
        "id": "lk26uBSCe8Du"
      },
      "outputs": [],
      "source": [
        "!pip install wurlitzer"
      ]
    },
    {
      "cell_type": "markdown",
      "metadata": {
        "id": "3oinwbhXlggd"
      },
      "source": [
        "## Importing libraries"
      ]
    },
    {
      "cell_type": "code",
      "execution_count": null,
      "metadata": {
        "id": "52W45tmDjD64"
      },
      "outputs": [],
      "source": [
        "import tensorflow_decision_forests as tfdf\n",
        "\n",
        "import os\n",
        "import numpy as np\n",
        "import pandas as pd\n",
        "import tensorflow as tf\n",
        "import math\n",
        "\n",
        "try:\n",
        "  from wurlitzer import sys_pipes\n",
        "except:\n",
        "  from colabtools.googlelog import CaptureLog as sys_pipes\n",
        "\n",
        "from IPython.core.magic import register_line_magic\n",
        "from IPython.display import Javascript"
      ]
    },
    {
      "cell_type": "code",
      "execution_count": null,
      "metadata": {
        "id": "37XWTDFBZESL"
      },
      "outputs": [],
      "source": [
        "# Your Earth Engine username.  This is used to import a classified image\n",
        "# into your Earth Engine assets folder.\n",
        "USER_NAME = 'pedro54cardoso'\n",
        "OUTPUT_BUCKET = 'pedro_bucks'\n",
        "\n",
        "#Filtered Feature Set\n",
        "BANDS = [\n",
        "  'B2_pri','B3_pri','B4_pri','B8_pri','rpg_pri','ndvi_pri','alb_pri',\n",
        "  'B2_seg','B3_seg','B8_seg','rpg_seg','ndvi_seg','alb_seg',\n",
        "  'B2_ter','B4_ter','B8_ter','rpg_ter','ndvi_ter','alb_ter',\n",
        "  'B2_may','B3_may','B4_may','B8_may','rpg_may','ndvi_may',\n",
        "  'B3_jun','B4_jun','B8_jun','rpg_jun','ndvi_jun','alb_jun',\n",
        "  'B2_jul','B3_jul','B4_jul','B8_jul','rpg_jul','ndvi_jul','alb_jul',\n",
        "  'B2_aug','B4_aug','B8_aug','rpg_aug','ndvi_aug','alb_aug',\n",
        "  'B2_sep','B3_sep','B4_sep','B8_sep','rpg_sep','ndvi_sep','alb_sep',\n",
        "  'B2_oct','B3_oct','B4_oct','B8_oct','rpg_oct','ndvi_oct','alb_oct',\n",
        "]\n",
        "\n",
        "'''\n",
        "#Original Feature Set\n",
        "BANDS = [\n",
        "  'B2_pri','B3_pri','B4_pri','B8_pri','rpg_pri','ndvi_pri','alb_pri',\n",
        "  'B2_seg','B3_seg','B4_seg','B8_seg','rpg_seg','ndvi_seg','alb_seg',\n",
        "  'B2_ter','B3_ter','B4_ter','B8_ter','rpg_ter','ndvi_ter','alb_ter',\n",
        "  'B2_may','B3_may','B4_may','B8_may','rpg_may','ndvi_may','alb_may',\n",
        "  'B2_jun','B3_jun','B4_jun','B8_jun','rpg_jun','ndvi_jun','alb_jun',\n",
        "  'B2_jul','B3_jul','B4_jul','B8_jul','rpg_jul','ndvi_jul','alb_jul',\n",
        "  'B2_aug','B3_aug','B4_aug','B8_aug','rpg_aug','ndvi_aug','alb_aug',\n",
        "  'B2_sep','B3_sep','B4_sep','B8_sep','rpg_sep','ndvi_sep','alb_sep',\n",
        "  'B2_oct','B3_oct','B4_oct','B8_oct','rpg_oct','ndvi_oct','alb_oct',\n",
        "]\n",
        "'''\n",
        "\n",
        "LABEL = 'Class'\n",
        "# Number of label values, i.e. number of classes in the classification.\n",
        "N_CLASSES = 4\n",
        "\n",
        "# These names are used to specify properties in the export of\n",
        "# training/testing data and to define the mapping between names and data\n",
        "# when reading into TensorFlow datasets.\n",
        "FEATURE_NAMES = list(BANDS)\n",
        "FEATURE_NAMES.append(LABEL)"
      ]
    },
    {
      "cell_type": "markdown",
      "metadata": {
        "id": "6WlsxRgpnwUu"
      },
      "source": [
        "Mount Google Drive"
      ]
    },
    {
      "cell_type": "code",
      "source": [
        "from google.colab import drive\n",
        "\n",
        "drive._mount('/content/drive')\n",
        "\n",
        "#If the current cell didn't work, uncomment the following line\n",
        "#drive.mount(\"/content/drive\", force_remount=True)"
      ],
      "metadata": {
        "id": "U7b4Wuy3Etp-"
      },
      "execution_count": null,
      "outputs": []
    },
    {
      "cell_type": "markdown",
      "source": [
        "Authenticate your Google account"
      ],
      "metadata": {
        "id": "PAc9Lb1brydv"
      }
    },
    {
      "cell_type": "code",
      "execution_count": null,
      "metadata": {
        "id": "dxvrqDu9jbxs"
      },
      "outputs": [],
      "source": [
        "# This only needs to be done once per notebook\n",
        "!pip install -U PyDrive\n",
        "#import authentification libraries\n",
        "from google.colab import auth\n",
        "from pydrive.auth import GoogleAuth\n",
        "from pydrive.drive import GoogleDrive\n",
        "from oauth2client.client import GoogleCredentials\n",
        "#Authenticate for connection\n",
        "auth.authenticate_user()\n",
        "gauth = GoogleAuth()\n",
        "gauth.credentials = GoogleCredentials.get_application_default()\n",
        "drive = GoogleDrive(gauth)"
      ]
    },
    {
      "cell_type": "code",
      "execution_count": null,
      "metadata": {
        "id": "f9MO3Us0jhrl"
      },
      "outputs": [],
      "source": [
        "#@title Load training/testing data from Earth Engine exports\n",
        "import tensorboard as tb\n",
        "\n",
        "# Specify the training file exported from EE.\n",
        "# If you wish to use your own data, then\n",
        "# replace the file ID, below, with your own file.\n",
        "trainFileId = '1V0joE0_OP5No0tjNKrOQ2x_rHT0ZBsPJ'\n",
        "trainDownload = drive.CreateFile({'id': trainFileId})\n",
        "# Create a local file of the specified name.\n",
        "tfrTrainFile = 'training.tfrecord.gz'\n",
        "trainDownload.GetContentFile(tfrTrainFile)\n",
        "\n",
        "# Specify the test file.\n",
        "# If you wish to use your own data, then\n",
        "# replace the file ID, below, with your own file.\n",
        "\n",
        "#Alentejo Litoral 2020\n",
        "testFileId = '1UDiK8N8PiH47Bgp8RnMw89yHHNKk3ABz'\n",
        "testDownload = drive.CreateFile({'id': testFileId})\n",
        "# Creates a local file of the specified name.\n",
        "tfrTestFile = 'testing.tfrecord.gz'\n",
        "testDownload.GetContentFile(tfrTestFile)\n",
        "\n",
        "#--------------------------------------------------------\n",
        "#Oeste\n",
        "testFileId2 = '1FblNGSqPk8NVaYfOdr5JM2rIbdxc_6wZ'\n",
        "testDownload2 = drive.CreateFile({'id': testFileId2})\n",
        "# Creates a local file of the specified name.\n",
        "tfrTestFile2 = 'testing2.tfrecord.gz'\n",
        "testDownload2.GetContentFile(tfrTestFile2)\n",
        "\n",
        "#--------------------------------------------------------\n",
        "#Alentejo Litoral 2021\n",
        "testFileId3 = '1Dr-GgMZ1TPVe8WmTS2QXBiaz4OlGfeQd'\n",
        "testDownload3 = drive.CreateFile({'id': testFileId3})\n",
        "# Creates a local file of the specified name.\n",
        "tfrTestFile3 = 'testing3.tfrecord.gz'\n",
        "testDownload3.GetContentFile(tfrTestFile3)\n",
        "\n",
        "#--------------------------------------------------------\n",
        "#Alentejo Litoral 2019\n",
        "testFileId4 = '1Dlj7JVvXlVqt4ZvVKMkwwNssmySB-I1q'\n",
        "testDownload4 = drive.CreateFile({'id': testFileId4})\n",
        "# Creates a local file of the specified name.\n",
        "tfrTestFile4 = 'testing4.tfrecord.gz'\n",
        "testDownload4.GetContentFile(tfrTestFile4)\n",
        "\n",
        "#--------------------------------------------------------\n",
        "#Agricultural fields in Alentejo Litoral\n",
        "testFileId5 = '19dHoMY1OOAZl9BoQql_iUzUdeVKTKhtc'\n",
        "testDownload5 = drive.CreateFile({'id': testFileId5})\n",
        "# Creates a local file of the specified name.\n",
        "tfrTestFile5 = 'testing5.tfrecord.gz'\n",
        "testDownload5.GetContentFile(tfrTestFile5)\n",
        "\n",
        "#--------------------------------------------------------\n",
        "#Solar panels in the Algarve\n",
        "testFileId6 = '1FWQMZeMUhCxV_xdllnJCofE1Eos-mW1T'\n",
        "testDownload6 = drive.CreateFile({'id': testFileId6})\n",
        "# Creates a local file of the specified name.\n",
        "tfrTestFile6 = 'testing6.tfrecord.gz'\n",
        "testDownload6.GetContentFile(tfrTestFile6)\n",
        "\n",
        "print('Successfully downloaded training file?')\n",
        "\n",
        "!ls"
      ]
    },
    {
      "cell_type": "markdown",
      "metadata": {
        "id": "ENKHgUQ-p093"
      },
      "source": [
        "# Read into a tf.data.Dataset"
      ]
    },
    {
      "cell_type": "code",
      "execution_count": null,
      "metadata": {
        "id": "9Ylev1wzjnvt"
      },
      "outputs": [],
      "source": [
        "# Create a dataset from the TFRecord file in Cloud Storage.\n",
        "train_dataset = tf.data.TFRecordDataset(tfrTrainFile, compression_type='GZIP')\n",
        "# Print the first record to check.\n",
        "print(iter(train_dataset).next())"
      ]
    },
    {
      "cell_type": "markdown",
      "metadata": {
        "id": "BrDYm-ibKR6t"
      },
      "source": [
        "## Define the structure of your data\n",
        "\n",
        "For parsing the exported TFRecord files, `featuresDict` is a mapping between feature names (recall that `featureNames` contains the band and label names) and `float32` [`tf.io.FixedLenFeature`](https://www.tensorflow.org/api_docs/python/tf/io/FixedLenFeature) objects.  This mapping is necessary for telling TensorFlow how to read data in a TFRecord file into tensors.  Specifically, **all numeric data exported from Earth Engine is exported as `float32`**.\n",
        "\n",
        "(Note: *features* in the TensorFlow context (i.e. [`tf.train.Feature`](https://www.tensorflow.org/api_docs/python/tf/train/Feature)) are not to be confused with Earth Engine features (i.e. [`ee.Feature`](https://developers.google.com/earth-engine/api_docs#eefeature)), where the former is a protocol message type for serialized data input to the model and the latter is a geometry-based geographic data structure.)"
      ]
    },
    {
      "cell_type": "code",
      "execution_count": null,
      "metadata": {
        "id": "E11Ttwk8kIBV"
      },
      "outputs": [],
      "source": [
        "# List of fixed-length features, all of which are float32.\n",
        "columns = [\n",
        "  tf.io.FixedLenFeature(shape=[1], dtype=tf.float32) for k in FEATURE_NAMES\n",
        "]\n",
        "\n",
        "# Dictionary with names as keys, features as values.\n",
        "features_dict = dict(zip(FEATURE_NAMES, columns))\n",
        "\n",
        "print(features_dict)"
      ]
    },
    {
      "cell_type": "markdown",
      "metadata": {
        "id": "QNfaUPbcjuCO"
      },
      "source": [
        "## Parse the dataset\n",
        "\n",
        "Now we need to make a parsing function for the data in the TFRecord files.  The data comes in flattened 2D arrays per record and we want to use the first part of the array for input to the model and the last element of the array as the class label.  The parsing function reads data from a serialized [`Example` proto](https://www.tensorflow.org/api_docs/python/tf/train/Example) into a dictionary in which the keys are the feature names and the values are the tensors storing the value of the features for that example.  ([These TensorFlow docs](https://www.tensorflow.org/tutorials/load_data/tfrecord) explain more about reading `Example` protos from TFRecord files)."
      ]
    },
    {
      "cell_type": "code",
      "execution_count": null,
      "metadata": {
        "id": "IXacp_lOnDuF"
      },
      "outputs": [],
      "source": [
        "def parse_tfrecord(example_proto):\n",
        "  \"\"\"The parsing function.\n",
        "\n",
        "  Read a serialized example into the structure defined by featuresDict.\n",
        "\n",
        "  Args:\n",
        "    example_proto: a serialized Example.\n",
        "\n",
        "  Returns:\n",
        "    A tuple of the predictors dictionary and the label, cast to an `int32`.\n",
        "  \"\"\"\n",
        "  parsed_features = tf.io.parse_single_example(example_proto, features_dict)\n",
        "  labels = parsed_features.pop(LABEL)\n",
        "  return parsed_features, tf.cast(labels, tf.int32)\n",
        "\n",
        "# Map the function over the dataset.\n",
        "parsed_dataset = train_dataset.map(parse_tfrecord, num_parallel_calls=5)\n",
        "\n",
        "# Print the first parsed record to check.\n",
        "print(iter(parsed_dataset).next())"
      ]
    },
    {
      "cell_type": "markdown",
      "source": [
        "# Train the classifier"
      ],
      "metadata": {
        "id": "E77XZAl2sPzp"
      }
    },
    {
      "cell_type": "code",
      "execution_count": null,
      "metadata": {
        "id": "ILo8t8VlbBsz"
      },
      "outputs": [],
      "source": [
        "input_dataset = parsed_dataset.batch(1)\n",
        "\n",
        "#If you wish to measure the variable importance, use the compute_oob_variable_importances=True parameter\n",
        "#Removing the parameter will make the training process faster\n",
        "#Other parameters can be added, for example 'max_depth = 10'\n",
        "model = tfdf.keras.RandomForestModel(compute_oob_variable_importances=True)\n",
        "\n",
        "model.compile(metrics=[\"accuracy\"])\n",
        "\n",
        "model.fit(input_dataset)\n",
        "\n",
        "#The summary will print information related to the classifier and its variables\n",
        "print(model.summary())"
      ]
    },
    {
      "cell_type": "markdown",
      "source": [
        "# Visualization of tree behaviour"
      ],
      "metadata": {
        "id": "03C0EMint4o0"
      }
    },
    {
      "cell_type": "code",
      "execution_count": null,
      "metadata": {
        "id": "HllBL6UHoH47",
        "colab": {
          "base_uri": "https://localhost:8080/",
          "height": 718
        },
        "outputId": "b7589ab3-e835-45f7-bb22-d7d051860b77"
      },
      "outputs": [
        {
          "output_type": "execute_result",
          "data": {
            "text/plain": [
              "<IPython.core.display.HTML object>"
            ],
            "text/html": [
              "\n",
              "<script src=\"https://d3js.org/d3.v6.min.js\"></script>\n",
              "<div id=\"tree_plot_a06a267f4b7048578a4b449e78a2ea91\"></div>\n",
              "<script>\n",
              "/*\n",
              " * Copyright 2021 Google LLC.\n",
              " * Licensed under the Apache License, Version 2.0 (the \"License\");\n",
              " * you may not use this file except in compliance with the License.\n",
              " * You may obtain a copy of the License at\n",
              " *\n",
              " *     https://www.apache.org/licenses/LICENSE-2.0\n",
              " *\n",
              " * Unless required by applicable law or agreed to in writing, software\n",
              " * distributed under the License is distributed on an \"AS IS\" BASIS,\n",
              " * WITHOUT WARRANTIES OR CONDITIONS OF ANY KIND, either express or implied.\n",
              " * See the License for the specific language governing permissions and\n",
              " * limitations under the License.\n",
              " */\n",
              "\n",
              "/**\n",
              " *  Plotting of decision trees generated by TF-DF.\n",
              " *\n",
              " *  A tree is a recursive structure of node objects.\n",
              " *  A node contains one or more of the following components:\n",
              " *\n",
              " *    - A value: Representing the output of the node. If the node is not a leaf,\n",
              " *      the value is only present for analysis i.e. it is not used for\n",
              " *      predictions.\n",
              " *\n",
              " *    - A condition : For non-leaf nodes, the condition (also known as split)\n",
              " *      defines a binary test to branch to the positive or negative child.\n",
              " *\n",
              " *    - An explanation: Generally a plot showing the relation between the label\n",
              " *      and the condition to give insights about the effect of the condition.\n",
              " *\n",
              " *    - Two children : For non-leaf nodes, the children nodes. The first\n",
              " *      children (i.e. \"node.children[0]\") is the negative children (drawn in\n",
              " *      red). The second children is the positive one (drawn in green).\n",
              " *\n",
              " */\n",
              "\n",
              "/**\n",
              " * Plots a single decision tree into a DOM element.\n",
              " * @param {!options} options Dictionary of configurations.\n",
              " * @param {!tree} raw_tree Recursive tree structure.\n",
              " * @param {string} canvas_id Id of the output dom element.\n",
              " */\n",
              "function display_tree(options, raw_tree, canvas_id) {\n",
              "  console.log(options);\n",
              "\n",
              "  // Determine the node placement.\n",
              "  const tree_struct = d3.tree().nodeSize(\n",
              "      [options.node_y_offset, options.node_x_offset])(d3.hierarchy(raw_tree));\n",
              "\n",
              "  // Boundaries of the node placement.\n",
              "  let x_min = Infinity;\n",
              "  let x_max = -x_min;\n",
              "  let y_min = Infinity;\n",
              "  let y_max = -x_min;\n",
              "\n",
              "  tree_struct.each(d => {\n",
              "    if (d.x > x_max) x_max = d.x;\n",
              "    if (d.x < x_min) x_min = d.x;\n",
              "    if (d.y > y_max) y_max = d.y;\n",
              "    if (d.y < y_min) y_min = d.y;\n",
              "  });\n",
              "\n",
              "  // Size of the plot.\n",
              "  const width = y_max - y_min + options.node_x_size + options.margin * 2;\n",
              "  const height = x_max - x_min + options.node_y_size + options.margin * 2 +\n",
              "      options.node_y_offset - options.node_y_size;\n",
              "\n",
              "  const plot = d3.select(canvas_id);\n",
              "\n",
              "  // Tool tip\n",
              "  options.tooltip = plot.append('div')\n",
              "                        .attr('width', 100)\n",
              "                        .attr('height', 100)\n",
              "                        .style('padding', '4px')\n",
              "                        .style('background', '#fff')\n",
              "                        .style('box-shadow', '4px 4px 0px rgba(0,0,0,0.1)')\n",
              "                        .style('border', '1px solid black')\n",
              "                        .style('font-family', 'sans-serif')\n",
              "                        .style('font-size', options.font_size)\n",
              "                        .style('position', 'absolute')\n",
              "                        .style('z-index', '10')\n",
              "                        .attr('pointer-events', 'none')\n",
              "                        .style('display', 'none');\n",
              "\n",
              "  // Create canvas\n",
              "  const svg = plot.append('svg').attr('width', width).attr('height', height);\n",
              "  const graph =\n",
              "      svg.style('overflow', 'visible')\n",
              "          .append('g')\n",
              "          .attr('font-family', 'sans-serif')\n",
              "          .attr('font-size', options.font_size)\n",
              "          .attr(\n",
              "              'transform',\n",
              "              () => `translate(${options.margin},${\n",
              "                  - x_min + options.node_y_offset / 2 + options.margin})`);\n",
              "\n",
              "  // Plot bounding box.\n",
              "  if (options.show_plot_bounding_box) {\n",
              "    svg.append('rect')\n",
              "        .attr('width', width)\n",
              "        .attr('height', height)\n",
              "        .attr('fill', 'none')\n",
              "        .attr('stroke-width', 1.0)\n",
              "        .attr('stroke', 'black');\n",
              "  }\n",
              "\n",
              "  // Draw the edges.\n",
              "  display_edges(options, graph, tree_struct);\n",
              "\n",
              "  // Draw the nodes.\n",
              "  display_nodes(options, graph, tree_struct);\n",
              "}\n",
              "\n",
              "/**\n",
              " * Draw the nodes of the tree.\n",
              " * @param {!options} options Dictionary of configurations.\n",
              " * @param {!graph} graph D3 search handle containing the graph.\n",
              " * @param {!tree_struct} tree_struct Structure of the tree (node placement,\n",
              " *     data, etc.).\n",
              " */\n",
              "function display_nodes(options, graph, tree_struct) {\n",
              "  const nodes = graph.append('g')\n",
              "                    .selectAll('g')\n",
              "                    .data(tree_struct.descendants())\n",
              "                    .join('g')\n",
              "                    .attr('transform', d => `translate(${d.y},${d.x})`);\n",
              "\n",
              "  nodes.append('rect')\n",
              "      .attr('x', 0.5)\n",
              "      .attr('y', 0.5)\n",
              "      .attr('width', options.node_x_size)\n",
              "      .attr('height', options.node_y_size)\n",
              "      .attr('stroke', 'lightgrey')\n",
              "      .attr('stroke-width', 1)\n",
              "      .attr('fill', 'white')\n",
              "      .attr('y', -options.node_y_size / 2);\n",
              "\n",
              "  // Brackets on the right of condition nodes without children.\n",
              "  non_leaf_node_without_children =\n",
              "      nodes.filter(node => node.data.condition != null && node.children == null)\n",
              "          .append('g')\n",
              "          .attr('transform', `translate(${options.node_x_size},0)`);\n",
              "\n",
              "  non_leaf_node_without_children.append('path')\n",
              "      .attr('d', 'M0,0 C 10,0 0,10 10,10')\n",
              "      .attr('fill', 'none')\n",
              "      .attr('stroke-width', 1.0)\n",
              "      .attr('stroke', '#F00');\n",
              "\n",
              "  non_leaf_node_without_children.append('path')\n",
              "      .attr('d', 'M0,0 C 10,0 0,-10 10,-10')\n",
              "      .attr('fill', 'none')\n",
              "      .attr('stroke-width', 1.0)\n",
              "      .attr('stroke', '#0F0');\n",
              "\n",
              "  const node_content = nodes.append('g').attr(\n",
              "      'transform',\n",
              "      `translate(0,${options.node_padding - options.node_y_size / 2})`);\n",
              "\n",
              "  node_content.append(node => create_node_element(options, node));\n",
              "}\n",
              "\n",
              "/**\n",
              " * Creates the D3 content for a single node.\n",
              " * @param {!options} options Dictionary of configurations.\n",
              " * @param {!node} node Node to draw.\n",
              " * @return {!d3} D3 content.\n",
              " */\n",
              "function create_node_element(options, node) {\n",
              "  // Output accumulator.\n",
              "  let output = {\n",
              "    // Content to draw.\n",
              "    content: d3.create('svg:g'),\n",
              "    // Vertical offset to the next element to draw.\n",
              "    vertical_offset: 0\n",
              "  };\n",
              "\n",
              "  // Conditions.\n",
              "  if (node.data.condition != null) {\n",
              "    display_condition(options, node.data.condition, output);\n",
              "  }\n",
              "\n",
              "  // Values.\n",
              "  if (node.data.value != null) {\n",
              "    display_value(options, node.data.value, output);\n",
              "  }\n",
              "\n",
              "  // Explanations.\n",
              "  if (node.data.explanation != null) {\n",
              "    display_explanation(options, node.data.explanation, output);\n",
              "  }\n",
              "\n",
              "  return output.content.node();\n",
              "}\n",
              "\n",
              "\n",
              "/**\n",
              " * Adds a single line of text inside of a node.\n",
              " * @param {!options} options Dictionary of configurations.\n",
              " * @param {string} text Text to display.\n",
              " * @param {!output} output Output display accumulator.\n",
              " */\n",
              "function display_node_text(options, text, output) {\n",
              "  output.content.append('text')\n",
              "      .attr('x', options.node_padding)\n",
              "      .attr('y', output.vertical_offset)\n",
              "      .attr('alignment-baseline', 'hanging')\n",
              "      .text(text);\n",
              "  output.vertical_offset += 10;\n",
              "}\n",
              "\n",
              "/**\n",
              " * Adds a single line of text inside of a node with a tooltip.\n",
              " * @param {!options} options Dictionary of configurations.\n",
              " * @param {string} text Text to display.\n",
              " * @param {string} tooltip Text in the Tooltip.\n",
              " * @param {!output} output Output display accumulator.\n",
              " */\n",
              "function display_node_text_with_tooltip(options, text, tooltip, output) {\n",
              "  const item = output.content.append('text')\n",
              "                   .attr('x', options.node_padding)\n",
              "                   .attr('alignment-baseline', 'hanging')\n",
              "                   .text(text);\n",
              "\n",
              "  add_tooltip(options, item, () => tooltip);\n",
              "  output.vertical_offset += 10;\n",
              "}\n",
              "\n",
              "/**\n",
              " * Adds a tooltip to a dom element.\n",
              " * @param {!options} options Dictionary of configurations.\n",
              " * @param {!dom} target Dom element to equip with a tooltip.\n",
              " * @param {!func} get_content Generates the html content of the tooltip.\n",
              " */\n",
              "function add_tooltip(options, target, get_content) {\n",
              "  function show(d) {\n",
              "    options.tooltip.style('display', 'block');\n",
              "    options.tooltip.html(get_content());\n",
              "  }\n",
              "\n",
              "  function hide(d) {\n",
              "    options.tooltip.style('display', 'none');\n",
              "  }\n",
              "\n",
              "  function move(d) {\n",
              "    options.tooltip.style('display', 'block');\n",
              "    options.tooltip.style('left', (d.pageX + 5) + 'px');\n",
              "    options.tooltip.style('top', d.pageY + 'px');\n",
              "  }\n",
              "\n",
              "  target.on('mouseover', show);\n",
              "  target.on('mouseout', hide);\n",
              "  target.on('mousemove', move);\n",
              "}\n",
              "\n",
              "/**\n",
              " * Adds a condition inside of a node.\n",
              " * @param {!options} options Dictionary of configurations.\n",
              " * @param {!condition} condition Condition to display.\n",
              " * @param {!output} output Output display accumulator.\n",
              " */\n",
              "function display_condition(options, condition, output) {\n",
              "  threshold_format = d3.format('r');\n",
              "\n",
              "  if (condition.type === 'IS_MISSING') {\n",
              "    display_node_text(options, `${condition.attribute} is missing`, output);\n",
              "    return;\n",
              "  }\n",
              "\n",
              "  if (condition.type === 'IS_TRUE') {\n",
              "    display_node_text(options, `${condition.attribute} is true`, output);\n",
              "    return;\n",
              "  }\n",
              "\n",
              "  if (condition.type === 'NUMERICAL_IS_HIGHER_THAN') {\n",
              "    format = d3.format('r');\n",
              "    display_node_text(\n",
              "        options,\n",
              "        `${condition.attribute} >= ${threshold_format(condition.threshold)}`,\n",
              "        output);\n",
              "    return;\n",
              "  }\n",
              "\n",
              "  if (condition.type === 'CATEGORICAL_IS_IN') {\n",
              "    display_node_text_with_tooltip(\n",
              "        options, `${condition.attribute} in [...]`,\n",
              "        `${condition.attribute} in [${condition.mask}]`, output);\n",
              "    return;\n",
              "  }\n",
              "\n",
              "  if (condition.type === 'CATEGORICAL_SET_CONTAINS') {\n",
              "    display_node_text_with_tooltip(\n",
              "        options, `${condition.attribute} intersect [...]`,\n",
              "        `${condition.attribute} intersect [${condition.mask}]`, output);\n",
              "    return;\n",
              "  }\n",
              "\n",
              "  if (condition.type === 'NUMERICAL_SPARSE_OBLIQUE') {\n",
              "    display_node_text_with_tooltip(\n",
              "        options, `Sparse oblique split...`,\n",
              "        `[${condition.attributes}]*[${condition.weights}]>=${\n",
              "            threshold_format(condition.threshold)}`,\n",
              "        output);\n",
              "    return;\n",
              "  }\n",
              "\n",
              "  display_node_text(\n",
              "      options, `Non supported condition ${condition.type}`, output);\n",
              "}\n",
              "\n",
              "/**\n",
              " * Adds a value inside of a node.\n",
              " * @param {!options} options Dictionary of configurations.\n",
              " * @param {!value} value Value to display.\n",
              " * @param {!output} output Output display accumulator.\n",
              " */\n",
              "function display_value(options, value, output) {\n",
              "  if (value.type === 'PROBABILITY') {\n",
              "    const left_margin = 0;\n",
              "    const right_margin = 50;\n",
              "    const plot_width = options.node_x_size - options.node_padding * 2 -\n",
              "        left_margin - right_margin;\n",
              "\n",
              "    let cusum = Array.from(d3.cumsum(value.distribution));\n",
              "    cusum.unshift(0);\n",
              "    const distribution_plot = output.content.append('g').attr(\n",
              "        'transform', `translate(0,${output.vertical_offset + 0.5})`);\n",
              "\n",
              "    distribution_plot.selectAll('rect')\n",
              "        .data(value.distribution)\n",
              "        .join('rect')\n",
              "        .attr('height', 10)\n",
              "        .attr(\n",
              "            'x',\n",
              "            (d, i) =>\n",
              "                (cusum[i] * plot_width + left_margin + options.node_padding))\n",
              "        .attr('width', (d, i) => d * plot_width)\n",
              "        .style('fill', (d, i) => d3.schemeSet1[i]);\n",
              "\n",
              "    const num_examples =\n",
              "        output.content.append('g')\n",
              "            .attr('transform', `translate(0,${output.vertical_offset})`)\n",
              "            .append('text')\n",
              "            .attr('x', options.node_x_size - options.node_padding)\n",
              "            .attr('alignment-baseline', 'hanging')\n",
              "            .attr('text-anchor', 'end')\n",
              "            .text(`(${value.num_examples})`);\n",
              "\n",
              "    const distribution_details = d3.create('ul');\n",
              "    distribution_details.selectAll('li')\n",
              "        .data(value.distribution)\n",
              "        .join('li')\n",
              "        .append('span')\n",
              "        .text(\n",
              "            (d, i) =>\n",
              "                'class ' + i + ': ' + d3.format('.3%')(value.distribution[i]));\n",
              "\n",
              "    add_tooltip(options, distribution_plot, () => distribution_details.html());\n",
              "    add_tooltip(options, num_examples, () => 'Number of examples');\n",
              "\n",
              "    output.vertical_offset += 10;\n",
              "    return;\n",
              "  }\n",
              "\n",
              "  if (value.type === 'REGRESSION') {\n",
              "    display_node_text(\n",
              "        options,\n",
              "        'value: ' + d3.format('r')(value.value) + ` (` +\n",
              "            d3.format('.6')(value.num_examples) + `)`,\n",
              "        output);\n",
              "    return;\n",
              "  }\n",
              "\n",
              "  display_node_text(options, `Non supported value ${value.type}`, output);\n",
              "}\n",
              "\n",
              "/**\n",
              " * Adds an explanation inside of a node.\n",
              " * @param {!options} options Dictionary of configurations.\n",
              " * @param {!explanation} explanation Explanation to display.\n",
              " * @param {!output} output Output display accumulator.\n",
              " */\n",
              "function display_explanation(options, explanation, output) {\n",
              "  // Margin before the explanation.\n",
              "  output.vertical_offset += 10;\n",
              "\n",
              "  display_node_text(\n",
              "      options, `Non supported explanation ${explanation.type}`, output);\n",
              "}\n",
              "\n",
              "\n",
              "/**\n",
              " * Draw the edges of the tree.\n",
              " * @param {!options} options Dictionary of configurations.\n",
              " * @param {!graph} graph D3 search handle containing the graph.\n",
              " * @param {!tree_struct} tree_struct Structure of the tree (node placement,\n",
              " *     data, etc.).\n",
              " */\n",
              "function display_edges(options, graph, tree_struct) {\n",
              "  // Draw an edge between a parent and a child node with a bezier.\n",
              "  function draw_single_edge(d) {\n",
              "    return 'M' + (d.source.y + options.node_x_size) + ',' + d.source.x + ' C' +\n",
              "        (d.source.y + options.node_x_size + options.edge_rounding) + ',' +\n",
              "        d.source.x + ' ' + (d.target.y - options.edge_rounding) + ',' +\n",
              "        d.target.x + ' ' + d.target.y + ',' + d.target.x;\n",
              "  }\n",
              "\n",
              "  graph.append('g')\n",
              "      .attr('fill', 'none')\n",
              "      .attr('stroke-width', 1.2)\n",
              "      .selectAll('path')\n",
              "      .data(tree_struct.links())\n",
              "      .join('path')\n",
              "      .attr('d', draw_single_edge)\n",
              "      .attr(\n",
              "          'stroke', d => (d.target === d.source.children[0]) ? '#0F0' : '#F00');\n",
              "}\n",
              "\n",
              "display_tree({\"margin\": 10, \"node_x_size\": 160, \"node_y_size\": 28, \"node_x_offset\": 180, \"node_y_offset\": 33, \"font_size\": 10, \"edge_rounding\": 20, \"node_padding\": 2, \"show_plot_bounding_box\": false}, {\"value\": {\"type\": \"PROBABILITY\", \"distribution\": [0.28094078017383983, 0.7121417185479263, 0.00048121748022496915, 0.006436283798008963], \"num_examples\": 33249.0}, \"condition\": {\"type\": \"NUMERICAL_IS_HIGHER_THAN\", \"attribute\": \"B2_may\", \"threshold\": 1151.5}, \"children\": [{\"value\": {\"type\": \"PROBABILITY\", \"distribution\": [0.6227373990531885, 0.37037037037037035, 0.0, 0.006892230576441102], \"num_examples\": 14364.0}, \"condition\": {\"type\": \"NUMERICAL_IS_HIGHER_THAN\", \"attribute\": \"rpg_seg\", \"threshold\": -0.7524825930595398}, \"children\": [{\"value\": {\"type\": \"PROBABILITY\", \"distribution\": [0.31651580353168124, 0.6831874165306425, 0.0, 0.0002967799376762131], \"num_examples\": 6739.0}, \"condition\": {\"type\": \"NUMERICAL_IS_HIGHER_THAN\", \"attribute\": \"B8_seg\", \"threshold\": 3878.0}, \"children\": [{\"value\": {\"type\": \"PROBABILITY\", \"distribution\": [0.04431818181818182, 0.9556818181818182, 0.0, 0.0], \"num_examples\": 1760.0}, \"condition\": {\"type\": \"NUMERICAL_IS_HIGHER_THAN\", \"attribute\": \"B8_aug\", \"threshold\": 3333.0}, \"children\": [{\"value\": {\"type\": \"PROBABILITY\", \"distribution\": [0.007523510971786834, 0.9924764890282132, 0.0, 0.0], \"num_examples\": 1595.0}, \"condition\": {\"type\": \"NUMERICAL_IS_HIGHER_THAN\", \"attribute\": \"rpg_aug\", \"threshold\": -0.908830463886261}}, {\"value\": {\"type\": \"PROBABILITY\", \"distribution\": [0.4, 0.6, 0.0, 0.0], \"num_examples\": 165.0}, \"condition\": {\"type\": \"NUMERICAL_IS_HIGHER_THAN\", \"attribute\": \"B4_jul\", \"threshold\": 1876.0}}]}, {\"value\": {\"type\": \"PROBABILITY\", \"distribution\": [0.4127334806185981, 0.5868648322956417, 0.0, 0.0004016870857601928], \"num_examples\": 4979.0}, \"condition\": {\"type\": \"NUMERICAL_IS_HIGHER_THAN\", \"attribute\": \"B2_pri\", \"threshold\": 1193.5}, \"children\": [{\"value\": {\"type\": \"PROBABILITY\", \"distribution\": [0.607942238267148, 0.3916967509025271, 0.0, 0.00036101083032490973], \"num_examples\": 2770.0}, \"condition\": {\"type\": \"NUMERICAL_IS_HIGHER_THAN\", \"attribute\": \"ndvi_jul\", \"threshold\": 0.23696035146713257}}, {\"value\": {\"type\": \"PROBABILITY\", \"distribution\": [0.16794929832503394, 0.8315980081484835, 0.0, 0.0004526935264825713], \"num_examples\": 2209.0}, \"condition\": {\"type\": \"NUMERICAL_IS_HIGHER_THAN\", \"attribute\": \"rpg_jul\", \"threshold\": -0.8117662072181702}}]}]}, {\"value\": {\"type\": \"PROBABILITY\", \"distribution\": [0.8933770491803279, 0.0939016393442623, 0.0, 0.012721311475409836], \"num_examples\": 7625.0}, \"condition\": {\"type\": \"NUMERICAL_IS_HIGHER_THAN\", \"attribute\": \"B8_seg\", \"threshold\": 3349.5}, \"children\": [{\"value\": {\"type\": \"PROBABILITY\", \"distribution\": [0.5704365079365079, 0.42956349206349204, 0.0, 0.0], \"num_examples\": 1008.0}, \"condition\": {\"type\": \"NUMERICAL_IS_HIGHER_THAN\", \"attribute\": \"B8_jul\", \"threshold\": 4296.0}, \"children\": [{\"value\": {\"type\": \"PROBABILITY\", \"distribution\": [0.8594847775175644, 0.1405152224824356, 0.0, 0.0], \"num_examples\": 427.0}, \"condition\": {\"type\": \"NUMERICAL_IS_HIGHER_THAN\", \"attribute\": \"B4_aug\", \"threshold\": 1429.0}}, {\"value\": {\"type\": \"PROBABILITY\", \"distribution\": [0.35800344234079173, 0.6419965576592083, 0.0, 0.0], \"num_examples\": 581.0}, \"condition\": {\"type\": \"NUMERICAL_IS_HIGHER_THAN\", \"attribute\": \"B4_aug\", \"threshold\": 1652.0}}]}, {\"value\": {\"type\": \"PROBABILITY\", \"distribution\": [0.9425721626114554, 0.04276862626567931, 0.0, 0.014659211122865346], \"num_examples\": 6617.0}, \"condition\": {\"type\": \"NUMERICAL_IS_HIGHER_THAN\", \"attribute\": \"B2_jul\", \"threshold\": 940.75}, \"children\": [{\"value\": {\"type\": \"PROBABILITY\", \"distribution\": [0.9627971596171658, 0.022229083050324176, 0.0, 0.014973757332510034], \"num_examples\": 6478.0}, \"condition\": {\"type\": \"NUMERICAL_IS_HIGHER_THAN\", \"attribute\": \"rpg_may\", \"threshold\": -0.8074673414230347}}, {\"value\": {\"type\": \"PROBABILITY\", \"distribution\": [0.0, 1.0, 0.0, 0.0], \"num_examples\": 139.0}}]}]}]}, {\"value\": {\"type\": \"PROBABILITY\", \"distribution\": [0.02096902303415409, 0.972094254699497, 0.0008472332539052158, 0.006089489012443739], \"num_examples\": 18885.0}, \"condition\": {\"type\": \"NUMERICAL_IS_HIGHER_THAN\", \"attribute\": \"B2_oct\", \"threshold\": 679.75}, \"children\": [{\"value\": {\"type\": \"PROBABILITY\", \"distribution\": [0.06640491635370434, 0.9139638101741209, 0.0, 0.019631273472174804], \"num_examples\": 5858.0}, \"condition\": {\"type\": \"NUMERICAL_IS_HIGHER_THAN\", \"attribute\": \"B8_seg\", \"threshold\": 1593.5}, \"children\": [{\"value\": {\"type\": \"PROBABILITY\", \"distribution\": [0.019163081736409855, 0.9808369182635901, 0.0, 0.0], \"num_examples\": 5114.0}, \"condition\": {\"type\": \"NUMERICAL_IS_HIGHER_THAN\", \"attribute\": \"alb_seg\", \"threshold\": 2260.5654296875}, \"children\": [{\"value\": {\"type\": \"PROBABILITY\", \"distribution\": [0.0, 1.0, 0.0, 0.0], \"num_examples\": 3728.0}}, {\"value\": {\"type\": \"PROBABILITY\", \"distribution\": [0.0707070707070707, 0.9292929292929293, 0.0, 0.0], \"num_examples\": 1386.0}, \"condition\": {\"type\": \"NUMERICAL_IS_HIGHER_THAN\", \"attribute\": \"B2_jul\", \"threshold\": 1272.5}}]}, {\"value\": {\"type\": \"PROBABILITY\", \"distribution\": [0.3911290322580645, 0.4543010752688172, 0.0, 0.15456989247311828], \"num_examples\": 744.0}, \"condition\": {\"type\": \"NUMERICAL_IS_HIGHER_THAN\", \"attribute\": \"B2_pri\", \"threshold\": 644.5}, \"children\": [{\"value\": {\"type\": \"PROBABILITY\", \"distribution\": [0.6627906976744186, 0.0029069767441860465, 0.0, 0.33430232558139533], \"num_examples\": 344.0}, \"condition\": {\"type\": \"NUMERICAL_IS_HIGHER_THAN\", \"attribute\": \"ndvi_oct\", \"threshold\": 0.12116454541683197}}, {\"value\": {\"type\": \"PROBABILITY\", \"distribution\": [0.1575, 0.8425, 0.0, 0.0], \"num_examples\": 400.0}, \"condition\": {\"type\": \"NUMERICAL_IS_HIGHER_THAN\", \"attribute\": \"B4_oct\", \"threshold\": 805.5}}]}]}, {\"value\": {\"type\": \"PROBABILITY\", \"distribution\": [0.0005373455131649651, 0.9982344361710294, 0.0012282183158056344, 0.0], \"num_examples\": 13027.0}, \"condition\": {\"type\": \"NUMERICAL_IS_HIGHER_THAN\", \"attribute\": \"alb_ter\", \"threshold\": 421.1300964355469}, \"children\": [{\"value\": {\"type\": \"PROBABILITY\", \"distribution\": [0.000538006302359542, 0.9994619936976404, 0.0, 0.0], \"num_examples\": 13011.0}, \"condition\": {\"type\": \"NUMERICAL_IS_HIGHER_THAN\", \"attribute\": \"B2_aug\", \"threshold\": 758.5}, \"children\": [{\"value\": {\"type\": \"PROBABILITY\", \"distribution\": [0.020958083832335328, 0.9790419161676647, 0.0, 0.0], \"num_examples\": 334.0}, \"condition\": {\"type\": \"NUMERICAL_IS_HIGHER_THAN\", \"attribute\": \"B4_may\", \"threshold\": 1029.25}}, {\"value\": {\"type\": \"PROBABILITY\", \"distribution\": [0.0, 1.0, 0.0, 0.0], \"num_examples\": 12677.0}}]}, {\"value\": {\"type\": \"PROBABILITY\", \"distribution\": [0.0, 0.0, 1.0, 0.0], \"num_examples\": 16.0}}]}]}]}, \"#tree_plot_a06a267f4b7048578a4b449e78a2ea91\")\n",
              "</script>\n"
            ]
          },
          "metadata": {},
          "execution_count": 14
        }
      ],
      "source": [
        "#It's possible to analyze the behaviour of a specific tree of the model  \n",
        "#tree_idx is the number of the selected tree \n",
        "tfdf.model_plotter.plot_model_in_colab(model, tree_idx=0, max_depth=4)"
      ]
    },
    {
      "cell_type": "markdown",
      "source": [
        "# Inspector of model properties"
      ],
      "metadata": {
        "id": "nc_ogvT_uxFS"
      }
    },
    {
      "cell_type": "code",
      "execution_count": null,
      "metadata": {
        "id": "Z2kzMTvWoxcK"
      },
      "outputs": [],
      "source": [
        "inspector = model.make_inspector()\n",
        "\n",
        "print(\"Model type:\", inspector.model_type())\n",
        "print(\"Number of trees:\", inspector.num_trees())\n",
        "print(\"Objective:\", inspector.objective())\n",
        "print(\"Input features:\", inspector.features())\n",
        "print(\"Evaluation:\", inspector.evaluation())\n",
        "print(\"Labels:\", inspector.label())\n",
        "\n",
        "#All existent properties name can be visualize with the following line\n",
        "#[field for field in dir(inspector) if not field.startswith(\"_\")]"
      ]
    },
    {
      "cell_type": "markdown",
      "source": [
        "# Testing\n"
      ],
      "metadata": {
        "id": "pA5-57hsvXIN"
      }
    },
    {
      "cell_type": "code",
      "execution_count": null,
      "metadata": {
        "id": "s_WzCGWVbeg6"
      },
      "outputs": [],
      "source": [
        "print(\"Alentejo 2020\")\n",
        "test_dataset = (\n",
        "  tf.data.TFRecordDataset(tfrTestFile, compression_type='GZIP')\n",
        "    .map(parse_tfrecord, num_parallel_calls=5)\n",
        "    .batch(1))\n",
        "\n",
        "evaluation = model.evaluate(test_dataset, return_dict=True)\n",
        "print()\n",
        "\n",
        "\n",
        "for name, value in evaluation.items():\n",
        "  print(f\"{name}: {value:.4f}\")\n",
        "#---------------------------------------------------------------\n",
        "print(\"Oeste 2020\")\n",
        "test_dataset2 = (\n",
        "  tf.data.TFRecordDataset(tfrTestFile2, compression_type='GZIP')\n",
        "    .map(parse_tfrecord, num_parallel_calls=5)\n",
        "    .batch(1))\n",
        "\n",
        "evaluation2 = model.evaluate(test_dataset2, return_dict=True)\n",
        "print()\n",
        "\n",
        "\n",
        "for name, value in evaluation2.items():\n",
        "  print(f\"{name}: {value:.4f}\")\n",
        "\n",
        "#---------------------------------------------------------------\n",
        "print(\"Alentejo 2021\")\n",
        "test_dataset3 = (\n",
        "  tf.data.TFRecordDataset(tfrTestFile3, compression_type='GZIP')\n",
        "    .map(parse_tfrecord, num_parallel_calls=5)\n",
        "    .batch(1))\n",
        "\n",
        "evaluation3 = model.evaluate(test_dataset3, return_dict=True)\n",
        "print()\n",
        "\n",
        "\n",
        "for name, value in evaluation3.items():\n",
        "  print(f\"{name}: {value:.4f}\")\n",
        "#---------------------------------------------------------------\n",
        "print(\"Alentejo 2019\")\n",
        "test_dataset4 = (\n",
        "  tf.data.TFRecordDataset(tfrTestFile4, compression_type='GZIP')\n",
        "    .map(parse_tfrecord, num_parallel_calls=5)\n",
        "    .batch(1))\n",
        "\n",
        "evaluation4 = model.evaluate(test_dataset4, return_dict=True)\n",
        "print()\n",
        "\n",
        "\n",
        "for name, value in evaluation4.items():\n",
        "  print(f\"{name}: {value:.4f}\")\n",
        "#---------------------------------------------------------------\n",
        "print(\"Agricultural fields in Alentejo Litoral\")\n",
        "test_dataset5 = (\n",
        "  tf.data.TFRecordDataset(tfrTestFile5, compression_type='GZIP')\n",
        "    .map(parse_tfrecord, num_parallel_calls=5)\n",
        "    .batch(1))\n",
        "\n",
        "evaluation5 = model.evaluate(test_dataset5, return_dict=True)\n",
        "print()\n",
        "\n",
        "\n",
        "for name, value in evaluation5.items():\n",
        "  print(f\"{name}: {value:.4f}\")\n",
        "#---------------------------------------------------------------\n",
        "print(\"Solar panels in Algarve\")\n",
        "test_dataset6 = (\n",
        "  tf.data.TFRecordDataset(tfrTestFile6, compression_type='GZIP')\n",
        "    .map(parse_tfrecord, num_parallel_calls=5)\n",
        "    .batch(1))\n",
        "\n",
        "evaluation6 = model.evaluate(test_dataset6, return_dict=True)\n",
        "print()\n",
        "\n",
        "\n",
        "for name, value in evaluation6.items():\n",
        "  print(f\"{name}: {value:.4f}\")"
      ]
    },
    {
      "cell_type": "markdown",
      "source": [
        "# List of variables with importance equal or above 0 "
      ],
      "metadata": {
        "id": "Hn8kxqiH9v6K"
      }
    },
    {
      "cell_type": "code",
      "source": [
        "dictio = inspector.variable_importances()['MEAN_DECREASE_IN_ACCURACY']\n",
        "\n",
        "\n",
        "def removeBands():\n",
        "  lista = []\n",
        "  for x in dictio:\n",
        "    if x[1] <= 0 :\n",
        "      lista.append(x[0][0])\n",
        "\n",
        "  BANDS2 = BANDS.copy()\n",
        "  for x in lista:\n",
        "    BANDS2.remove(x)\n",
        "\n",
        "  return BANDS2\n",
        "\n",
        "removeBands()"
      ],
      "metadata": {
        "id": "cbA8GfBoIXV5"
      },
      "execution_count": null,
      "outputs": []
    },
    {
      "cell_type": "markdown",
      "source": [
        "Helpful plots"
      ],
      "metadata": {
        "id": "f9PKneYC-J2e"
      }
    },
    {
      "cell_type": "code",
      "execution_count": null,
      "metadata": {
        "id": "n3cOAumE1Wta",
        "colab": {
          "base_uri": "https://localhost:8080/",
          "height": 279
        },
        "outputId": "29e46913-bec8-4c64-e567-6433abeb46ff"
      },
      "outputs": [
        {
          "output_type": "display_data",
          "data": {
            "text/plain": [
              "<Figure size 864x288 with 2 Axes>"
            ],
            "image/png": "[encoded data removed]"
          },
          "metadata": {
            "needs_background": "light"
          }
        }
      ],
      "source": [
        "import matplotlib.pyplot as plt\n",
        "\n",
        "logs = model.make_inspector().training_logs()\n",
        "\n",
        "plt.figure(figsize=(12, 4))\n",
        "\n",
        "plt.subplot(1, 2, 1)\n",
        "plt.plot([log.num_trees for log in logs], [log.evaluation.accuracy for log in logs])\n",
        "plt.xlabel(\"Number of trees\")\n",
        "plt.ylabel(\"Accuracy (out-of-bag)\")\n",
        "\n",
        "plt.subplot(1, 2, 2)\n",
        "plt.plot([log.num_trees for log in logs], [log.evaluation.loss for log in logs])\n",
        "plt.xlabel(\"Number of trees\")\n",
        "plt.ylabel(\"Logloss (out-of-bag)\")\n",
        "\n",
        "plt.show()"
      ]
    }
  ],
  "metadata": {
    "colab": {
      "collapsed_sections": [],
      "provenance": [],
      "mount_file_id": "11-_2c7G0Hvi7PalT_GA12Uw3HoYcwu7n",
      "authorship_tag": "ABX9TyO9zq5YLJfTPvhF4T04HfxT",
      "include_colab_link": true
    },
    "kernelspec": {
      "display_name": "Python 3",
      "name": "python3"
    },
    "language_info": {
      "name": "python"
    }
  },
  "nbformat": 4,
  "nbformat_minor": 0
}