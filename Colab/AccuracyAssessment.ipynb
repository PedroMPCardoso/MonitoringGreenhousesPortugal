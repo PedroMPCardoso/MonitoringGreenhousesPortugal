{
  "nbformat": 4,
  "nbformat_minor": 0,
  "metadata": {
    "colab": {
      "provenance": [],
      "collapsed_sections": [],
      "mount_file_id": "1vy1poEs0uIzHE1u4ICWMv-izf0loja9a",
      "authorship_tag": "ABX9TyPXuxjtrk4ZCo7yA/kZ7EX6"
    },
    "kernelspec": {
      "name": "python3",
      "display_name": "Python 3"
    },
    "language_info": {
      "name": "python"
    }
  },
  "cells": [
    {
      "cell_type": "markdown",
      "source": [
        "# Confusion Matrix\n",
        "**NOTE:** The following script is dependent on the Google Earth Engine script.\n",
        "\n",
        "In order to make the confusion matrix for the post-processing tiffs, the resulting tiffs were merged in **GEE** with the ground truth data and exported to the Google Drive as CSV files.\n",
        "\n",
        "The CSV files have 2 columns, one for the GT (ground truth) data and the other for the classification prediction, each row corresponds to a specific pixel."
      ],
      "metadata": {
        "id": "UeoMcP0-IQtH"
      }
    },
    {
      "cell_type": "markdown",
      "source": [
        "## Mount Google Drive"
      ],
      "metadata": {
        "id": "or0MbOulIXDk"
      }
    },
    {
      "cell_type": "code",
      "source": [
        "from google.colab import drive\n",
        "drive.mount('/content/drive')"
      ],
      "metadata": {
        "id": "vvsqQohKegf5"
      },
      "execution_count": null,
      "outputs": []
    },
    {
      "cell_type": "markdown",
      "source": [
        "## Import the necessary libraries"
      ],
      "metadata": {
        "id": "Xucirly2IbQ1"
      }
    },
    {
      "cell_type": "code",
      "execution_count": 8,
      "metadata": {
        "id": "bWkxdWBvNbH-"
      },
      "outputs": [],
      "source": [
        "import pandas as pd\n",
        "import numpy as np"
      ]
    },
    {
      "cell_type": "code",
      "source": [
        "#Location of CSV file to use\n",
        "data = pd.read_csv(\"/content/drive/MyDrive/Tiffs/PortoCavadoColab2020.csv\")\n",
        "#Check if the file is read\n",
        "data"
      ],
      "metadata": {
        "id": "1smfZaOyNuRy"
      },
      "execution_count": null,
      "outputs": []
    },
    {
      "cell_type": "code",
      "source": [
        "gt_array = data[\"GT\"].to_numpy()\n",
        "gt_array\n",
        "class_array = data[\"classification\"].to_numpy()\n",
        "class_array\n",
        "\n",
        "#The classification column should have 2 classes (1=Greenhouse and 2=Non-Greenhouse)\n",
        "print(\"The values of the classification column should be [1 2] and they are:\")\n",
        "print(np.unique(class_array))\n",
        "\n",
        "#The Non-Greenhouse class is the convergion of all previous non-greenhouse classes in a single class\n",
        "#sometimes the convergion has issues and some pixels may not be converted\n",
        "#If for example some pixels have a wrong value like '6' the following line changes it to the correct value of '2'\n",
        "#class_array[class_array == 6] = 2\n",
        "#Use the prints to verify that the fixed values are correct\n",
        "#print(\"The final values of the classification column should be [1 2] and they are:\")\n",
        "#print(np.unique(class_array))"
      ],
      "metadata": {
        "id": "poNPfIFHROGZ"
      },
      "execution_count": null,
      "outputs": []
    },
    {
      "cell_type": "code",
      "source": [
        "from sklearn.metrics import confusion_matrix"
      ],
      "metadata": {
        "id": "2ifA4YehOVap"
      },
      "execution_count": 27,
      "outputs": []
    },
    {
      "cell_type": "markdown",
      "source": [
        "## Confusion Matrix"
      ],
      "metadata": {
        "id": "h7EHGbE9NziT"
      }
    },
    {
      "cell_type": "code",
      "source": [
        "confusion = confusion_matrix(gt_array, class_array)\n",
        "confusion"
      ],
      "metadata": {
        "colab": {
          "base_uri": "https://localhost:8080/"
        },
        "id": "oLY8i6MtOWxJ",
        "outputId": "5c9943de-3aea-4684-934e-4effd255a4d0"
      },
      "execution_count": 28,
      "outputs": [
        {
          "output_type": "execute_result",
          "data": {
            "text/plain": [
              "array([[552,   6],\n",
              "       [  2, 735]])"
            ]
          },
          "metadata": {},
          "execution_count": 28
        }
      ]
    },
    {
      "cell_type": "markdown",
      "source": [
        "## Confusion Matrix related metrics"
      ],
      "metadata": {
        "id": "GicnzaA2N3Ru"
      }
    },
    {
      "cell_type": "code",
      "source": [
        "from sklearn.metrics import classification_report\n",
        "target_names = ['class 0', 'class 1']\n",
        "print(classification_report(gt_array, class_array, target_names=target_names,digits=4))"
      ],
      "metadata": {
        "colab": {
          "base_uri": "https://localhost:8080/"
        },
        "id": "NR8xnAFKKxFm",
        "outputId": "886c79ef-aee4-4a4b-eb0b-dd1b9ee15c41"
      },
      "execution_count": 15,
      "outputs": [
        {
          "output_type": "stream",
          "name": "stdout",
          "text": [
            "              precision    recall  f1-score   support\n",
            "\n",
            "     class 0     0.9964    0.9892    0.9928       558\n",
            "     class 1     0.9919    0.9973    0.9946       737\n",
            "\n",
            "    accuracy                         0.9938      1295\n",
            "   macro avg     0.9941    0.9933    0.9937      1295\n",
            "weighted avg     0.9938    0.9938    0.9938      1295\n",
            "\n"
          ]
        }
      ]
    }
  ]
}
