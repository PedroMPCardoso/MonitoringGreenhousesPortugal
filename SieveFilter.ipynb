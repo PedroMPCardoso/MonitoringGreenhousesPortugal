{
  "nbformat": 4,
  "nbformat_minor": 0,
  "metadata": {
    "colab": {
      "provenance": [],
      "collapsed_sections": [],
      "authorship_tag": "ABX9TyOQ6omX14y557/fvb/mKAIw"
    },
    "kernelspec": {
      "name": "python3",
      "display_name": "Python 3"
    },
    "language_info": {
      "name": "python"
    }
  },
  "cells": [
    {
      "cell_type": "markdown",
      "source": [
        "# Sieve Algorithm\n"
      ],
      "metadata": {
        "id": "wGvknLQfBk9i"
      }
    },
    {
      "cell_type": "markdown",
      "source": [
        "## Install rasterio"
      ],
      "metadata": {
        "id": "f8rE26DaBsLu"
      }
    },
    {
      "cell_type": "code",
      "execution_count": null,
      "metadata": {
        "id": "lmpSU0acAkFv"
      },
      "outputs": [],
      "source": [
        "pip install rasterio"
      ]
    },
    {
      "cell_type": "markdown",
      "source": [
        "## Import rasterio"
      ],
      "metadata": {
        "id": "QwErcUdWBwWa"
      }
    },
    {
      "cell_type": "code",
      "source": [
        "import rasterio\n",
        "import rasterio.features"
      ],
      "metadata": {
        "id": "Dxz2yJM0Aq2A"
      },
      "execution_count": 2,
      "outputs": []
    },
    {
      "cell_type": "markdown",
      "source": [
        "## Method to apply the Sieve algorithm\n",
        "The method:\n",
        "\n",
        "```\n",
        "cleaner(name,year)\n",
        "```\n",
        "Takes as parameters the name of the tiff file and the selected year. \n",
        "Opens the tiff file in the directory \n",
        "\n",
        "\n",
        "```\n",
        "# \"/content/drive/MyDrive/Tiffs \" + year +\"/\" + name\n",
        "```\n",
        "Applies the Sieve algorithm, removing objects smaller than the selected threshold\n",
        "\n",
        "```\n",
        "sieveThreshold = 6\n",
        "```\n",
        "And writes the resulting tiff in the directory \n",
        "\n",
        "\n",
        "```\n",
        "# \"/content/drive/MyDrive/Tiffs/\" + year + \"/\" + name\n",
        "```\n",
        "\n",
        "\n",
        "\n",
        "**NOTE:** Change the directories if necessary\n",
        "\n"
      ],
      "metadata": {
        "id": "YOgTf-FxCIPe"
      }
    },
    {
      "cell_type": "code",
      "source": [
        "import subprocess\n",
        "\n",
        "# Load the Drive helper and mount\n",
        "from google.colab import drive\n",
        "drive.mount('/content/drive')\n",
        "\n",
        "import numpy as np\n",
        "from rasterio.features import sieve, shapes\n",
        "\n",
        "def cleaner(name,year):\n",
        "  #Directory to write the final result\n",
        "  folder = \"/content/drive/MyDrive/Tiffs/\" + year + \"/\" + name\n",
        "  # Register GDAL and OGR drivers.\n",
        "  with rasterio.Env():\n",
        "\n",
        "    # Read a raster to be sieved from the selected directory\n",
        "    with rasterio.open('/content/drive/MyDrive/Tiffs ' + year +'/' + name) as src:\n",
        "        shade = src.read(1)\n",
        "\n",
        "    # Print the number of shapes in the source raster.\n",
        "    print(\"Slope shapes: %d\" % len(list(shapes(shade))))\n",
        "\n",
        "    # Sieve out features 6 pixels or smaller.\n",
        "    sieveThreshold = 6\n",
        "    sieved = sieve(shade, sieveThreshold, out=np.zeros(src.shape, src.dtypes[0]))\n",
        "\n",
        "    # Print the number of shapes in the sieved raster.\n",
        "    print(\"Sieved (6) shapes: %d\" % len(list(shapes(sieved))))\n",
        "\n",
        "    # Write out the sieved raster.\n",
        "    kwargs = src.meta\n",
        "    print(src.meta)\n",
        "    kwargs['transform'] = rasterio.transform.guard_transform(kwargs['transform'])\n",
        "    with rasterio.open(folder, 'w', compress=\"LZW\" , **kwargs) as dst:\n",
        "        dst.write(sieved, indexes=1)"
      ],
      "metadata": {
        "id": "BLEvxn54AsJO"
      },
      "execution_count": null,
      "outputs": []
    },
    {
      "cell_type": "markdown",
      "source": [
        "# Selection of year to filter"
      ],
      "metadata": {
        "id": "3zPTCQC5Gs4w"
      }
    },
    {
      "cell_type": "code",
      "source": [
        "from os import listdir\n",
        "from os.path import isfile, join\n",
        "year = '2021'\n",
        "tiffs = [f for f in listdir('/content/drive/MyDrive/Tiffs '+ year) if isfile(join('/content/drive/MyDrive/Tiffs ' + year , f))]\n",
        "for file in tiffs:\n",
        "  cleaner(file,year)"
      ],
      "metadata": {
        "id": "fE-KNAOXAu6J"
      },
      "execution_count": null,
      "outputs": []
    }
  ]
}